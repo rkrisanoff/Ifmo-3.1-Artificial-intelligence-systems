{
  "cells": [
    {
      "cell_type": "markdown",
      "metadata": {
        "id": "view-in-github",
        "colab_type": "text"
      },
      "source": [
        "<a href=\"https://colab.research.google.com/github/rkrisanoff/Ifmo-3.1-Artificial-intelligence-systems/blob/master/Task5.ipynb\" target=\"_parent\"><img src=\"https://colab.research.google.com/assets/colab-badge.svg\" alt=\"Open In Colab\"/></a>"
      ]
    },
    {
      "cell_type": "code",
      "execution_count": null,
      "metadata": {
        "id": "7u89FOEHfI76"
      },
      "outputs": [],
      "source": [
        "import numpy as np\n",
        "import matplotlib\n",
        "import matplotlib.pyplot as plt"
      ]
    },
    {
      "cell_type": "markdown",
      "metadata": {
        "id": "wO8onLzXfI77"
      },
      "source": [
        "MNIST - датасет образцов рукописного написания цифр, является стандартом, предложенным Национальным институтом стандартов и технологий США с целью калибрации и сопоставления методов распознавания изображений с помощью машинного обучения. Образцы из набора NIST были нормализированы, прошли сглаживание и приведены к серому полутоновому изображению размером 28x28 пикселей. "
      ]
    },
    {
      "cell_type": "code",
      "execution_count": null,
      "metadata": {
        "id": "_lyWu67PfI7-"
      },
      "outputs": [],
      "source": [
        "from keras.datasets import mnist\n",
        "(X_train_origin, y_train_origin), (X_test_origin, y_test_origin) = mnist.load_data()"
      ]
    },
    {
      "cell_type": "markdown",
      "metadata": {
        "id": "2lxKUuVHfI7_"
      },
      "source": [
        "Первый элемент"
      ]
    },
    {
      "cell_type": "code",
      "execution_count": null,
      "metadata": {
        "colab": {
          "base_uri": "https://localhost:8080/",
          "height": 299
        },
        "id": "Ut7TrZXhfI7_",
        "outputId": "ad1597cd-988b-49b6-e91f-72edc2269592"
      },
      "outputs": [
        {
          "output_type": "stream",
          "name": "stdout",
          "text": [
            "response(отклик) of this object 0\n"
          ]
        },
        {
          "output_type": "display_data",
          "data": {
            "text/plain": [
              "<Figure size 432x288 with 1 Axes>"
            ],
            "image/png": "[encoded data removed]"
          },
          "metadata": {
            "needs_background": "light"
          }
        }
      ],
      "source": [
        "plt.title(\"Нулевой объект из тренировочного набора:\")\n",
        "plt.imshow(X_train_origin[1], cmap=\"gray\")\n",
        "print(f'response(отклик) of this object {y_train_origin[1]}')"
      ]
    },
    {
      "cell_type": "code",
      "source": [
        "min_variance = 0.8\n",
        "tested_class = 1"
      ],
      "metadata": {
        "id": "mgExMybga8d9"
      },
      "execution_count": null,
      "outputs": []
    },
    {
      "cell_type": "markdown",
      "metadata": {
        "id": "gN5HT-KJfI8B"
      },
      "source": [
        "Для разделения данных используем функцию train_test_split из библиотеки sklearn. Следующий код разделяет исходные данные в отношении 70/30."
      ]
    },
    {
      "cell_type": "code",
      "execution_count": null,
      "metadata": {
        "id": "C6EDe1pOfI8C"
      },
      "outputs": [],
      "source": [
        "from sklearn.model_selection import train_test_split\n",
        "\n",
        "X_train_splited_origin, X_test_splited_origin, y_train_splited_origin, y_test_splited_origin =  train_test_split(X_train_origin, y_train_origin, test_size=0.3, random_state=2022)"
      ]
    },
    {
      "cell_type": "markdown",
      "metadata": {
        "id": "jFis9C6QfI8C"
      },
      "source": [
        "Преобразуем данные"
      ]
    },
    {
      "cell_type": "code",
      "execution_count": null,
      "metadata": {
        "id": "JphNdJWQfI8D"
      },
      "outputs": [],
      "source": [
        "dim = 784 # 28*28 picules for picules\n",
        "X_train = X_train_splited_origin.reshape(len(X_train_splited_origin), dim)\n",
        "X_test = X_test_splited_origin.reshape(len(X_test_splited_origin), dim)"
      ]
    },
    {
      "cell_type": "markdown",
      "metadata": {
        "id": "fP8qY96sfI8D"
      },
      "source": [
        "Уменьшим размерность тестовых данных"
      ]
    },
    {
      "cell_type": "code",
      "execution_count": null,
      "metadata": {
        "id": "WNjgwet2fI8E"
      },
      "outputs": [],
      "source": [
        "from sklearn.decomposition import PCA\n",
        "N_components = 69\n",
        "pca = PCA(n_components=N_components, svd_solver='full')\n",
        "modelPCA = pca.fit(X_train) "
      ]
    },
    {
      "cell_type": "markdown",
      "metadata": {
        "id": "ZH3MVrLufI8E"
      },
      "source": [
        "Найдем долю объясненной дисперсии в зависимости от количества используемых ГК"
      ]
    },
    {
      "cell_type": "code",
      "execution_count": null,
      "metadata": {
        "colab": {
          "base_uri": "https://localhost:8080/"
        },
        "id": "ioUjNFE9fI8F",
        "outputId": "67be238a-1298-4dd5-8ee0-98aceb595ca9"
      },
      "outputs": [
        {
          "output_type": "stream",
          "name": "stdout",
          "text": [
            "minimum count of components we need to have a 0.8 variance is 43\n"
          ]
        }
      ],
      "source": [
        "explained_variance = np.round(np.cumsum(pca.explained_variance_ratio_),3)\n",
        "explained_variance\n",
        "min_n_components = 1\n",
        "while  min_n_components < len(explained_variance) and explained_variance[min_n_components-1] < min_variance : \n",
        "  min_n_components+=1\n",
        "print(f\"minimum count of components we need to have a {min_variance} variance is {min_n_components}\")\n",
        "pca = PCA(n_components=min_n_components, svd_solver='full')\n",
        "modelPCA = pca.fit(X_train) "
      ]
    },
    {
      "cell_type": "code",
      "execution_count": null,
      "metadata": {
        "colab": {
          "base_uri": "https://localhost:8080/",
          "height": 269
        },
        "id": "G6jSlgUGfI8F",
        "outputId": "98ef0225-8110-4ced-f9f7-083852264713"
      },
      "outputs": [
        {
          "output_type": "display_data",
          "data": {
            "text/plain": [
              "<Figure size 432x288 with 1 Axes>"
            ],
            "image/png": "[encoded data removed]"
          },
          "metadata": {
            "needs_background": "light"
          }
        }
      ],
      "source": [
        "plt.grid()\n",
        "plt.xlim(0,69)\n",
        "plt.ylim(0,1)\n",
        "plt.plot(np.full(10,min_n_components),np.linspace(0,1,10),'r--')\n",
        "plt.plot(np.arange(N_components), explained_variance, ls = '-')\n",
        "plt.show()"
      ]
    },
    {
      "cell_type": "code",
      "source": [
        "X_train_transformed = modelPCA.transform(X_train)\n"
      ],
      "metadata": {
        "id": "3B1371cV5MUZ"
      },
      "execution_count": null,
      "outputs": []
    },
    {
      "cell_type": "markdown",
      "metadata": {
        "id": "c1oTIlx-fI8G"
      },
      "source": [
        "Подключаем библиотеку для обучения многоклассового классификатора методом One-vs-All и дерево принятия решений"
      ]
    },
    {
      "cell_type": "code",
      "execution_count": null,
      "metadata": {
        "id": "BBgjA97tfI8G"
      },
      "outputs": [],
      "source": [
        "from sklearn.multiclass import OneVsRestClassifier\n",
        "from sklearn.tree import DecisionTreeClassifier\n",
        "from sklearn.ensemble import RandomForestClassifier"
      ]
    },
    {
      "cell_type": "code",
      "execution_count": null,
      "metadata": {
        "id": "LULcj1JsfI8H"
      },
      "outputs": [],
      "source": [
        "tree = RandomForestClassifier(criterion='gini', min_samples_leaf=10, max_depth=20, n_estimators=10, random_state=2022)\n",
        "clf = OneVsRestClassifier(tree).fit(X_train_transformed, y_train_splited_origin)"
      ]
    },
    {
      "cell_type": "markdown",
      "metadata": {
        "id": "sOyuiJTVfI8H"
      },
      "source": [
        "Примените полученное ранее преобразование метода главных компонент к тестовым данным"
      ]
    },
    {
      "cell_type": "code",
      "execution_count": null,
      "metadata": {
        "id": "UOba_rdkfI8I"
      },
      "outputs": [],
      "source": [
        "modelPCA = pca.fit(X_test) \n",
        "X_test_transformed = modelPCA.transform(X_test)"
      ]
    },
    {
      "cell_type": "code",
      "execution_count": null,
      "metadata": {
        "id": "D5TZgNbwfI8J"
      },
      "outputs": [],
      "source": [
        "y_train_pred = clf.predict(X_train_transformed)"
      ]
    },
    {
      "cell_type": "code",
      "source": [
        "y_test_pred = clf.predict(X_test_transformed)\n",
        "y_test_pred_probably = clf.predict_proba(X_test_transformed)"
      ],
      "metadata": {
        "id": "5DwrDtxPfp-K"
      },
      "execution_count": null,
      "outputs": []
    },
    {
      "cell_type": "code",
      "source": [
        "print(y_test_pred)\n",
        "print(y_test_splited_origin)"
      ],
      "metadata": {
        "colab": {
          "base_uri": "https://localhost:8080/"
        },
        "id": "qet56A0EKxe3",
        "outputId": "4a493aa6-a2dc-4997-fd7a-9037f8dc978f"
      },
      "execution_count": null,
      "outputs": [
        {
          "output_type": "stream",
          "name": "stdout",
          "text": [
            "[7 7 4 ... 7 9 3]\n",
            "[7 5 3 ... 2 9 4]\n"
          ]
        }
      ]
    },
    {
      "cell_type": "code",
      "execution_count": null,
      "metadata": {
        "colab": {
          "base_uri": "https://localhost:8080/"
        },
        "id": "q5KjGQIMfI8J",
        "outputId": "d3a49ef3-b492-4bff-d15e-33003e578270"
      },
      "outputs": [
        {
          "output_type": "stream",
          "name": "stdout",
          "text": [
            "confusion matrix\n",
            "[[1577    0   17   11   16   55   42   34   18   10]\n",
            " [   0 1152    5    9  308   12    5  249    2  287]\n",
            " [  42    2  949   23  217   26  216  135   76  150]\n",
            " [  19    5   45  447  260  157   18  400   97  424]\n",
            " [  32   40  644  268  183  153   46    3  375   41]\n",
            " [  64    5   51  131   79  859   31  143  149  117]\n",
            " [  38    1  146    2   38   36 1476   22    8   16]\n",
            " [  80   71  206  713   18   44    4  559   99   41]\n",
            " [  18    3   85   81  207   54   21   69  996  170]\n",
            " [  49   43  321  422   85  202   28   53  482   62]]\n",
            "accuracy equals 0.4588888888888889\n",
            "for 0 class:  recall - 0.8859550561797753, precision - 0.8217821782178217\n",
            "for 1 class:  recall - 0.5677673730901922, precision - 0.8714069591527988\n",
            "for 2 class:  recall - 0.5168845315904139, precision - 0.3843661401377076\n",
            "for 3 class:  recall - 0.2387820512820513, precision - 0.2121499762695776\n",
            "for 4 class:  recall - 0.10252100840336134, precision - 0.12969525159461376\n",
            "for 5 class:  recall - 0.52731737262124, precision - 0.5375469336670838\n",
            "for 6 class:  recall - 0.8278182837913629, precision - 0.7821939586645469\n",
            "for 7 class:  recall - 0.30463215258855586, precision - 0.3353329334133173\n",
            "for 8 class:  recall - 0.5845070422535211, precision - 0.4326672458731538\n",
            "for 9 class:  recall - 0.035489410417859184, precision - 0.04704097116843703\n"
          ]
        }
      ],
      "source": [
        "from sklearn.metrics import confusion_matrix, accuracy_score, recall_score, precision_score\n",
        "CM = confusion_matrix(y_test_splited_origin, y_test_pred)\n",
        "print(f\"confusion matrix\")\n",
        "print(CM)\n",
        "print(f\"accuracy equals {accuracy_score(y_test_splited_origin, y_test_pred)}\")\n",
        "for index, (recall, precision) in enumerate(zip(\n",
        "    recall_score(\n",
        "        y_test_splited_origin,\n",
        "        y_test_pred, average=None\n",
        "    ),\n",
        "    precision_score(\n",
        "        y_test_splited_origin,\n",
        "        y_test_pred, average=None\n",
        "    )\n",
        ")):\n",
        "    print(f\"for {index} class:  recall - {recall}, precision - {precision}\")\n"
      ]
    },
    {
      "cell_type": "raw",
      "metadata": {
        "id": "dve85H7IfI8K"
      },
      "source": [
        "Число верно классифицирoванных объектов классa i"
      ]
    },
    {
      "cell_type": "code",
      "execution_count": null,
      "metadata": {
        "colab": {
          "base_uri": "https://localhost:8080/"
        },
        "id": "Zyt8qcn9fI8K",
        "outputId": "6ea3e580-9383-44fa-877f-6d63b1678a2b"
      },
      "outputs": [
        {
          "output_type": "stream",
          "name": "stdout",
          "text": [
            "for 0 correctly classified 0 is 1577\n",
            "for 1 correctly classified 1 is 1152\n",
            "for 2 correctly classified 2 is 949\n",
            "for 3 correctly classified 3 is 447\n",
            "for 4 correctly classified 4 is 183\n",
            "for 5 correctly classified 5 is 859\n",
            "for 6 correctly classified 6 is 1476\n",
            "for 7 correctly classified 7 is 559\n",
            "for 8 correctly classified 8 is 996\n",
            "for 9 correctly classified 9 is 62\n"
          ]
        }
      ],
      "source": [
        "# for i in range(10):\n",
        "  # print(f\"for {i} correctly classified {i} is {CM[i][i]}\")\n",
        "print(f\"for {tested_class} class correctly classified is {CM[tested_class][tested_class]}\")\n"
      ]
    },
    {
      "cell_type": "code",
      "source": [
        "for i in [2**i for i in range(5)]:\n",
        "  plt.title(f\"{i} объект из тренировочного набора:\")\n",
        "  plt.imshow(X_test_splited_origin[i], cmap=\"gray\")\n",
        "  plt.show()\n",
        "  print(f\"predicted    for {i} is {y_test_pred[i]}\")\n",
        "  print(f\"origin class for {i} is {y_test_splited_origin[i]}\")\n",
        "  print(f\"probability of being assigned to a class {y_test_pred[i]} equals {round(y_test_pred_probably[i][y_test_pred[i]],3)}\")\n"
      ],
      "metadata": {
        "colab": {
          "base_uri": "https://localhost:8080/",
          "height": 1000
        },
        "id": "FLdXQZ56SFax",
        "outputId": "59d9fefd-0fa3-4e2d-d908-936c2624fcce"
      },
      "execution_count": null,
      "outputs": [
        {
          "output_type": "display_data",
          "data": {
            "text/plain": [
              "<Figure size 432x288 with 1 Axes>"
            ],
            "image/png": "[encoded data removed]"
          },
          "metadata": {
            "needs_background": "light"
          }
        },
        {
          "output_type": "stream",
          "name": "stdout",
          "text": [
            "predicted    for 1 is 7\n",
            "origin class for 1 is 5\n",
            "probability of being assigned to a class 7 equals 0.271\n"
          ]
        },
        {
          "output_type": "display_data",
          "data": {
            "text/plain": [
              "<Figure size 432x288 with 1 Axes>"
            ],
            "image/png": "[encoded data removed]"
          },
          "metadata": {
            "needs_background": "light"
          }
        },
        {
          "output_type": "stream",
          "name": "stdout",
          "text": [
            "predicted    for 2 is 4\n",
            "origin class for 2 is 3\n",
            "probability of being assigned to a class 4 equals 0.26\n"
          ]
        },
        {
          "output_type": "display_data",
          "data": {
            "text/plain": [
              "<Figure size 432x288 with 1 Axes>"
            ],
            "image/png": "[encoded data removed]"
          },
          "metadata": {
            "needs_background": "light"
          }
        },
        {
          "output_type": "stream",
          "name": "stdout",
          "text": [
            "predicted    for 4 is 8\n",
            "origin class for 4 is 8\n",
            "probability of being assigned to a class 8 equals 0.466\n"
          ]
        },
        {
          "output_type": "display_data",
          "data": {
            "text/plain": [
              "<Figure size 432x288 with 1 Axes>"
            ],
            "image/png": "[encoded data removed]"
          },
          "metadata": {
            "needs_background": "light"
          }
        },
        {
          "output_type": "stream",
          "name": "stdout",
          "text": [
            "predicted    for 8 is 1\n",
            "origin class for 8 is 1\n",
            "probability of being assigned to a class 1 equals 0.466\n"
          ]
        },
        {
          "output_type": "display_data",
          "data": {
            "text/plain": [
              "<Figure size 432x288 with 1 Axes>"
            ],
            "image/png": "[encoded data removed]"
          },
          "metadata": {
            "needs_background": "light"
          }
        },
        {
          "output_type": "stream",
          "name": "stdout",
          "text": [
            "predicted    for 16 is 5\n",
            "origin class for 16 is 5\n",
            "probability of being assigned to a class 5 equals 0.387\n"
          ]
        }
      ]
    }
  ],
  "metadata": {
    "kernelspec": {
      "display_name": "Python 3",
      "language": "python",
      "name": "python3"
    },
    "language_info": {
      "codemirror_mode": {
        "name": "ipython",
        "version": 3
      },
      "file_extension": ".py",
      "mimetype": "text/x-python",
      "name": "python",
      "nbconvert_exporter": "python",
      "pygments_lexer": "ipython3",
      "version": "3.7.3"
    },
    "colab": {
      "provenance": [],
      "collapsed_sections": [],
      "include_colab_link": true
    }
  },
  "nbformat": 4,
  "nbformat_minor": 0
}