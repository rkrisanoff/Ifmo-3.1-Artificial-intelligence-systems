{
 "cells": [
  {
   "cell_type": "code",
   "execution_count": 1070,
   "metadata": {},
   "outputs": [],
   "source": [
    "import pandas as pd\n",
    "import numpy as np\n",
    "import warnings\n",
    "from sklearn.model_selection import train_test_split\n",
    "warnings.filterwarnings(\"ignore\")\n",
    "\n",
    "\n",
    "excludedAttrsByDefault = [\"STUDENT ID\",\"GRADE\",\"COURSE ID\"]\n",
    "\n",
    "data = pd.read_csv(\"./DATA.csv\", sep=';')\n",
    "X_train, X_test, y_train, y_test = train_test_split(data[data.columns.drop(excludedAttrsByDefault)], data[\"GRADE\"], test_size=0.2)"
   ]
  },
  {
   "cell_type": "code",
   "execution_count": 1071,
   "metadata": {},
   "outputs": [],
   "source": [
    "from math import inf, log2\n",
    "\n",
    "def isSuccess(Y):\n",
    "    return (Y>=4) & (Y<=7) \n",
    "\n",
    "def getInfoT(T: np.array,Y:np.array):\n",
    "    entrophy = 0.0\n",
    "\n",
    "    succesFreq = len(Y[isSuccess(Y)])\n",
    "    failedFreq = len(Y) - succesFreq\n",
    "\n",
    "    if succesFreq==0 or failedFreq==0:\n",
    "        return 0\n",
    "    entrophy -= succesFreq/len(Y) * log2(succesFreq/len(Y))\n",
    "    entrophy -= failedFreq/len(Y) * log2(failedFreq/len(Y))\n",
    "\n",
    "    return entrophy\n",
    "def getInfoTX(T:np.array,Y:np.array,attr:str):\n",
    "    entrophy = 0.0\n",
    "    signs = np.unique(T[attr])\n",
    "\n",
    "    for sign in signs:\n",
    "        Ti = T[T[attr] == sign]\n",
    "        entrophy += len(Ti)/len(T) * getInfoT(Ti,Y[T[attr] == sign])\n",
    "\n",
    "    return entrophy\n",
    "\n",
    "def getSplitInfoX(T:np.array,Y:np.array,attr:str):\n",
    "    entrophy = 0.0\n",
    "    signs = np.unique(T[attr])\n",
    "\n",
    "    for sign in signs:\n",
    "        Ti = T[T[attr] == sign]\n",
    "        entrophy -= len(Ti)/len(T) * log2(len(Ti)/len(T))\n",
    "\n",
    "    return entrophy\n",
    "\n",
    "\n",
    "def gainRatio(T:np.array,Y:np.array,attr:str):\n",
    "    splitInfoX = getSplitInfoX(T,Y,attr)\n",
    "    if abs(splitInfoX) < np.finfo(float).eps:\n",
    "        return -inf\n",
    "\n",
    "    return (getInfoT(T,Y) - getInfoTX(T,Y,attr)) / splitInfoX\n",
    "\n",
    "def getAttrWithMaxGainRatio(T,Y,attrs:set[str]):\n",
    "    maxGainRatio = -inf\n",
    "    attrWithMaxGainRatio = None\n",
    "    for index,attr in enumerate(list(attrs)):\n",
    "        gr = gainRatio(T,Y,attr)\n",
    "        if maxGainRatio < gr:\n",
    "            maxGainRatio = gr\n",
    "            attrWithMaxGainRatio = attr\n",
    "\n",
    "    return attrWithMaxGainRatio"
   ]
  },
  {
   "cell_type": "code",
   "execution_count": 1072,
   "metadata": {},
   "outputs": [
    {
     "name": "stdout",
     "output_type": "stream",
     "text": [
      "Random chosen attribues are {'25', '18', '8', '23', '6', '7', '22', '26', '11', '20', '12', '9'}\n"
     ]
    }
   ],
   "source": [
    "from random import randint\n",
    "attrsCount = int(len(data)**(1/2))\n",
    "attrSet = set()\n",
    "for i in range(attrsCount):\n",
    "    attr = randint(1,30)\n",
    "    if attr in attrSet:\n",
    "        while attr in attrSet:\n",
    "            attr = randint(1,30)\n",
    "        \n",
    "    attrSet.add(attr)\n",
    "\n",
    "attrSet = set([str(attr) for attr in list(attrSet)])\n",
    "print(\"Random chosen attribues are\", attrSet)\n",
    "# attrSet = set([str(attr) for attr in list(range(1,30))])"
   ]
  },
  {
   "cell_type": "code",
   "execution_count": 1073,
   "metadata": {},
   "outputs": [],
   "source": [
    "class Node:\n",
    "    children:dict[str,\"Node\"]\n",
    "    parent:(\"Node\" or None)\n",
    "    attr:str\n",
    "    value:any\n",
    "    X:pd.Series\n",
    "    Y:pd.Series\n",
    "    def __init__(self,X=None,Y=None,parent=None,children=[],attr=None,value=None):\n",
    "        self.children = dict().fromkeys(children)\n",
    "        self.parent = parent\n",
    "        self.attr = attr\n",
    "        self.value = value\n",
    "        self.X = X\n",
    "        self.Y = Y\n",
    "\n",
    "\n",
    "    def getattrs(self):\n",
    "        attrs = set()\n",
    "        if self.attr is not None:\n",
    "            attrs.add(self.attr)\n",
    "        node = self\n",
    "        while node.parent is not None:\n",
    "            node = node.parent\n",
    "            if node.attr is not None:\n",
    "                attrs.add(node.attr)\n",
    "\n",
    "        return np.array(attrs)\n",
    "            "
   ]
  },
  {
   "cell_type": "code",
   "execution_count": 1074,
   "metadata": {},
   "outputs": [],
   "source": [
    "class ClassifierByTree:\n",
    "\n",
    "    def __init__(self) -> None:\n",
    "        self.root = Node(None,None,None,[],None,None)\n",
    "\n",
    "\n",
    "    def learn(self,X,Y,attrSet):\n",
    "        nodes = [self.root]\n",
    "        self.root.X = X\n",
    "        self.root.Y = Y\n",
    "\n",
    "        i = 0\n",
    "        while i < len(nodes):\n",
    "            node = nodes[i]\n",
    "            i += 1\n",
    "            x = node.X\n",
    "            y = node.Y\n",
    "            if len(y)<2:\n",
    "                continue\n",
    "            \n",
    "            attrs = attrSet - node.getattrs()\n",
    "            resultAttr = getAttrWithMaxGainRatio(x,y,attrs)\n",
    "            if resultAttr == None:\n",
    "                continue\n",
    "            node.attr = resultAttr\n",
    "\n",
    "            values = np.unique(x[resultAttr])\n",
    "\n",
    "            for index,value in enumerate(values):\n",
    "                rowsWithValue = x[resultAttr]==value\n",
    "                child = Node(x[rowsWithValue],y[rowsWithValue],node,[],None,value)\n",
    "                nodes.append(child)\n",
    "                node.children[value] = child\n",
    "\n",
    "    def proba(self,sample):\n",
    "        node = self.root\n",
    "        while node.attr is not None:\n",
    "            val = sample[node.attr]\n",
    "            if val not in node.children.keys():\n",
    "                break \n",
    "            node = node.children[val]\n",
    "        X = node.X\n",
    "        Y = node.Y\n",
    "        return len(Y[isSuccess(Y)])/len(Y)\n",
    "\n",
    "    def getRoot(self):\n",
    "        return self.root"
   ]
  },
  {
   "cell_type": "code",
   "execution_count": 1075,
   "metadata": {},
   "outputs": [],
   "source": [
    "clf = ClassifierByTree()\n",
    "clf.learn(X_train,y_train,attrSet)"
   ]
  },
  {
   "cell_type": "code",
   "execution_count": 1076,
   "metadata": {},
   "outputs": [
    {
     "name": "stdout",
     "output_type": "stream",
     "text": [
      "count of samples 29\n",
      "\tT\tF\n",
      "P\t5\t9\n",
      "N\t10\t5\n",
      "accuracy is 0.5172413793103449\n",
      "precision is 0.35714285714285715\n",
      "recall is 0.5\n"
     ]
    }
   ],
   "source": [
    "TP, FP, TN, FN = 0, 0, 0, 0\n",
    "x, y = [], []\n",
    "TPR, FPR = [], []\n",
    "accuracy, precision, recall = [], [], []\n",
    "length = len(X_test)\n",
    "# doorsteps = list(np.arange(0.0,1,0.1))\n",
    "y_pred = y_test.copy()\n",
    "\n",
    "TP, FP, TN, FN = 0, 0, 0, 0\n",
    "for index in X_test.index:\n",
    "    sample = X_test.T[index]\n",
    "    originClass = y_test[index]\n",
    "    pred = clf.proba(sample)\n",
    "    if originClass >= 4 and pred >= 0.5:\n",
    "        TP += 1\n",
    "    if originClass >= 4 and pred < 0.5:\n",
    "         FN += 1\n",
    "    if originClass <= 3 and pred < 0.5:\n",
    "        TN += 1\n",
    "    if originClass <= 3 and pred >= 0.5:\n",
    "        FP += 1\n",
    "    y_pred[index] = pred\n",
    "\n",
    "\n",
    "print(f'count of samples {length}\\n\\tT\\tF\\nP\\t{TP}\\t{FP}\\nN\\t{TN}\\t{FN}')\n",
    "accuracy = (TP+TN)/(TP+FP+TN+FN)\n",
    "recall = TP/(TP+FN)\n",
    "precision = TP/(TP+FP)\n",
    "print(f'accuracy is {accuracy}\\nprecision is {precision}\\nrecall is {recall}')\n"
   ]
  },
  {
   "cell_type": "code",
   "execution_count": 1077,
   "metadata": {},
   "outputs": [
    {
     "name": "stdout",
     "output_type": "stream",
     "text": [
      "(82, True, 1.0)\n",
      "(60, False, 1.0)\n",
      "(16, False, 1.0)\n",
      "(6, True, 1.0)\n",
      "(140, True, 1.0)\n",
      "(144, False, 1.0)\n",
      "(26, False, 1.0)\n",
      "(99, True, 1.0)\n",
      "(92, True, 1.0)\n",
      "(124, False, 1.0)\n",
      "(67, False, 0.8571428571428571)\n",
      "(39, False, 0.6666666666666666)\n",
      "(11, False, 0.5555555555555556)\n",
      "(22, False, 0.5)\n",
      "(45, False, 0.3111111111111111)\n",
      "(118, False, 0.25)\n",
      "(112, False, 0.0)\n",
      "(105, True, 0.0)\n",
      "(122, False, 0.0)\n",
      "(9, False, 0.0)\n",
      "(71, True, 0.0)\n",
      "(58, False, 0.0)\n",
      "(48, False, 0.0)\n",
      "(120, False, 0.0)\n",
      "(125, False, 0.0)\n",
      "(4, False, 0.0)\n",
      "(90, True, 0.0)\n",
      "(77, True, 0.0)\n",
      "(43, True, 0.0)\n"
     ]
    }
   ],
   "source": [
    "result = []\n",
    "for index in y_pred.index:\n",
    "    result.append((index,y_test[index]>=4,y_pred[index]))\n",
    "result.sort(key=lambda x:x[2],reverse=True)\n",
    "for i in result:\n",
    "    print(i)\n"
   ]
  },
  {
   "cell_type": "code",
   "execution_count": 1078,
   "metadata": {},
   "outputs": [
    {
     "name": "stdout",
     "output_type": "stream",
     "text": [
      "[5, 5]\n",
      "[1, 0]\n",
      "[1, 0]\n",
      "[1, 0]\n",
      "[7, 5]\n",
      "[0, 0.2631578947368421, 0.3157894736842105, 0.3684210526315789, 0.42105263157894735, 0.7894736842105263, 1] [0, 0.5, 0.5, 0.5, 0.5, 1.0, 1]\n"
     ]
    },
    {
     "data": {
      "image/png": "[encoded data removed]",
      "text/plain": [
       "<Figure size 640x480 with 1 Axes>"
      ]
     },
     "metadata": {},
     "output_type": "display_data"
    }
   ],
   "source": [
    "import matplotlib.pyplot  as plt\n",
    "PRED = 2\n",
    "ORIG = 1\n",
    "\n",
    "fig, ax = plt.subplots()\n",
    "rocX = [0]\n",
    "rocY = [0]\n",
    "stepX = 1/(sum([0 if i[ORIG] else 1 for i in result]))\n",
    "stepY = 1/(sum([1 if i[ORIG] else 0 for i in result]))\n",
    "left,right = 0,0\n",
    "while right < len(result):\n",
    "    classPredCount = [0,0]\n",
    "    while right < len(result) and result[right][PRED] == result[left][PRED]:\n",
    "        if result[right][ORIG]:\n",
    "            classPredCount[1] += 1\n",
    "        else:\n",
    "            classPredCount[0] += 1\n",
    "        right += 1\n",
    "    rocY.append(rocY[-1]+stepY*classPredCount[1])\n",
    "    rocX.append(rocX[-1]+stepX*classPredCount[0])\n",
    "\n",
    "\n",
    "    left = right + 1\n",
    "    right = left\n",
    "    print(classPredCount)\n",
    "rocY.append(1)\n",
    "rocX.append(1)\n",
    "\n",
    "print(rocX,rocY)\n",
    "ax.plot(rocX,rocY, linewidth=2.0)\n",
    "ax.plot(np.linspace(0,1,10),np.linspace(0,1,10), linewidth=2.0)\n",
    "ax.grid()\n",
    "\n",
    "plt.xlabel(\"False Positive Rate\")\n",
    "plt.ylabel(\"True Positive Rate\")\n",
    "plt.xlim(0,1)\n",
    "plt.ylim(0,1)\n",
    "plt.show()\n"
   ]
  }
 ],
 "metadata": {
  "kernelspec": {
   "display_name": "Python 3.9.13 ('base')",
   "language": "python",
   "name": "python3"
  },
  "language_info": {
   "codemirror_mode": {
    "name": "ipython",
    "version": 3
   },
   "file_extension": ".py",
   "mimetype": "text/x-python",
   "name": "python",
   "nbconvert_exporter": "python",
   "pygments_lexer": "ipython3",
   "version": "3.9.13"
  },
  "orig_nbformat": 4,
  "vscode": {
   "interpreter": {
    "hash": "586ad1ed5c97141e2437e681efbf1ec0adcd17d830cf5af2ca3d2819e743e158"
   }
  }
 },
 "nbformat": 4,
 "nbformat_minor": 2
}
